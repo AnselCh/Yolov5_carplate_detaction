{
 "cells": [
  {
   "cell_type": "code",
   "execution_count": 11,
   "metadata": {},
   "outputs": [],
   "source": [
    "import torch\n",
    "import cv2\n",
    "from PIL import Image"
   ]
  },
  {
   "cell_type": "code",
   "execution_count": 12,
   "metadata": {},
   "outputs": [],
   "source": [
    "def model_load(yolov5_path,model_path,chosse_classes):\n",
    "    model = torch.hub.load(yolov5_path, 'custom',model_path, source='local',force_reload=True)\n",
    "    model.classes = chosse_classes # class ='plate'\n",
    "    return model"
   ]
  },
  {
   "cell_type": "code",
   "execution_count": 13,
   "metadata": {},
   "outputs": [],
   "source": [
    "def inference(img_path,model):\n",
    "    img = Image.open(img_path) \n",
    "    results = model(img)\n",
    "    plate = results.pandas().xyxy[0]\n",
    "    return img,plate\n",
    "# plate = results.pandas().xyxy[0]\n",
    "# results.show()\n",
    "# results.xyxy[0]\n",
    "# results.pandas().xyxy[0]"
   ]
  },
  {
   "cell_type": "code",
   "execution_count": 14,
   "metadata": {},
   "outputs": [],
   "source": [
    "def crop_plates(img,plate):\n",
    "    img_tran = img.rotate(0, expand=True)\n",
    "    for i in range(plate.index.array.size):\n",
    "        if plate['name'][i] == 'plate':\n",
    "            x = plate['xmin'][i]\n",
    "            y = plate['ymin'][i]\n",
    "            x2 = plate['xmax'][i]\n",
    "            y2 = plate['ymax'][i]\n",
    "            cropped = img_tran .crop((x, y, x2, y2))\n",
    "            cropped.save(f'./test/palte{i}.jpg')\n",
    "            print(f'save plate{i}.jpg success')"
   ]
  },
  {
   "cell_type": "code",
   "execution_count": 15,
   "metadata": {},
   "outputs": [
    {
     "name": "stdout",
     "output_type": "stream",
     "text": [
      "import model\n"
     ]
    },
    {
     "name": "stderr",
     "output_type": "stream",
     "text": [
      "YOLOv5  v7.0-105-g226a5e4 Python-3.10.8 torch-2.0.0.dev20230219+cu118 CUDA:0 (Quadro M1000M, 2048MiB)\n",
      "\n",
      "Fusing layers... \n",
      "Model summary: 212 layers, 21002451 parameters, 0 gradients\n",
      "Adding AutoShape... \n"
     ]
    },
    {
     "name": "stdout",
     "output_type": "stream",
     "text": [
      "start inference\n",
      "inference finish\n",
      "save plate0.jpg success\n",
      "save plate1.jpg success\n"
     ]
    }
   ],
   "source": [
    "def main():\n",
    "    yolov5_path = r'C:\\Users\\ansel_chen\\VScode_Ansel\\pytorch_practice\\yolov5'\n",
    "    model_path = r'C:\\Users\\ansel_chen\\VScode_Ansel\\pytorch_practice\\model\\moto.pt'\n",
    "    chosse_classes = None\n",
    "    img_path = r'C:\\Users\\ansel_chen\\VScode_Ansel\\pytorch_practice\\torch_crop\\test01.JPG'\n",
    "    \n",
    "    try:\n",
    "        print('import model')\n",
    "        model = model_load(yolov5_path,model_path,chosse_classes)\n",
    "    except:\n",
    "        print('import model fail')\n",
    "\n",
    "    try:\n",
    "        print('start inference')\n",
    "        img,plate = inference(img_path,model)\n",
    "        print('inference finish')\n",
    "    except:\n",
    "        print('inference error')\n",
    "\n",
    "    try:\n",
    "        crop_plates(img,plate)\n",
    "    except:\n",
    "        print('crop fail')\n",
    "\n",
    "if __name__ == '__main__':\n",
    "    main()\n"
   ]
  }
 ],
 "metadata": {
  "kernelspec": {
   "display_name": "Python 3",
   "language": "python",
   "name": "python3"
  },
  "language_info": {
   "codemirror_mode": {
    "name": "ipython",
    "version": 3
   },
   "file_extension": ".py",
   "mimetype": "text/x-python",
   "name": "python",
   "nbconvert_exporter": "python",
   "pygments_lexer": "ipython3",
   "version": "3.10.8"
  },
  "orig_nbformat": 4,
  "vscode": {
   "interpreter": {
    "hash": "aa529be301bc9f874c4cc0323bd9bae673873c319a08a706d0e9738c760459c4"
   }
  }
 },
 "nbformat": 4,
 "nbformat_minor": 2
}
