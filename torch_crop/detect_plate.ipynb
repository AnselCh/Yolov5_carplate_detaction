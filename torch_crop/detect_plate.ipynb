{
 "cells": [
  {
   "cell_type": "code",
   "execution_count": 174,
   "metadata": {},
   "outputs": [],
   "source": [
    "import torch\n",
    "import cv2\n",
    "import numpy\n",
    "from PIL import Image"
   ]
  },
  {
   "cell_type": "code",
   "execution_count": 175,
   "metadata": {},
   "outputs": [],
   "source": [
    "def model_load(yolov5_path,model_path,chosse_classes):\n",
    "    model = torch.hub.load(yolov5_path, 'custom',model_path, source='local',force_reload=True)\n",
    "    model.classes = chosse_classes # class ='plate'\n",
    "    return model"
   ]
  },
  {
   "cell_type": "code",
   "execution_count": 176,
   "metadata": {},
   "outputs": [],
   "source": [
    "def inference(img_path,model):\n",
    "    img = Image.open(img_path)\n",
    "    img = img.rotate(0, expand=True) \n",
    "    results = model(img,size=80)\n",
    "    results.show()\n",
    "    print(results.pandas().xyxy[0].sort_values(by=\"xmin\",ascending=True))"
   ]
  },
  {
   "cell_type": "code",
   "execution_count": 177,
   "metadata": {},
   "outputs": [
    {
     "name": "stdout",
     "output_type": "stream",
     "text": [
      "import model\n"
     ]
    },
    {
     "name": "stderr",
     "output_type": "stream",
     "text": [
      "YOLOv5  v7.0-105-g226a5e4 Python-3.10.8 torch-2.0.0.dev20230219+cu118 CUDA:0 (Quadro M1000M, 2048MiB)\n",
      "\n",
      "Fusing layers... \n",
      "Model summary: 212 layers, 21002451 parameters, 0 gradients\n",
      "Adding AutoShape... \n"
     ]
    },
    {
     "name": "stdout",
     "output_type": "stream",
     "text": [
      "start inference\n"
     ]
    },
    {
     "data": {
      "image/png": "[encoded data removed]",
      "text/plain": [
       "<PIL.Image.Image image mode=RGB size=118x50>"
      ]
     },
     "metadata": {},
     "output_type": "display_data"
    },
    {
     "name": "stdout",
     "output_type": "stream",
     "text": [
      "        xmin       ymin       xmax       ymax  confidence  class name\n",
      "0   4.181471  14.891733  22.172138  40.330631    0.749415     22    M\n",
      "3  18.404961  14.593350  37.603001  39.289845    0.271071     23    N\n",
      "1  19.178873  14.839410  36.675217  39.860592    0.656598     22    M\n",
      "4  54.501152  12.725340  68.665558  34.489258    0.255044      0    -\n",
      "2  55.761131  12.310790  70.687088  37.506908    0.562020      3    2\n"
     ]
    }
   ],
   "source": [
    "def main():\n",
    "    yolov5_path = r'C:\\Users\\ansel_chen\\VScode_Ansel\\pytorch_practice\\yolov5'\n",
    "    model_path = r'C:\\Users\\ansel_chen\\VScode_Ansel\\pytorch_practice\\model\\moto.pt'\n",
    "    chosse_classes = [i for i in range(35)]\n",
    "    img_path = r'C:\\Users\\ansel_chen\\VScode_Ansel\\pytorch_practice\\torch_crop\\test\\plate1.jpg'\n",
    "    \n",
    "    try:\n",
    "        print('import model')\n",
    "        model = model_load(yolov5_path,model_path,chosse_classes)\n",
    "    except:\n",
    "        print('import model fail')\n",
    "\n",
    "    try:\n",
    "        print('start inference')\n",
    "        inference(img_path,model)\n",
    "\n",
    "    except:\n",
    "        print('inference error')\n",
    "\n",
    "if __name__ == '__main__':\n",
    "    main()"
   ]
  }
 ],
 "metadata": {
  "kernelspec": {
   "display_name": "Python 3",
   "language": "python",
   "name": "python3"
  },
  "language_info": {
   "codemirror_mode": {
    "name": "ipython",
    "version": 3
   },
   "file_extension": ".py",
   "mimetype": "text/x-python",
   "name": "python",
   "nbconvert_exporter": "python",
   "pygments_lexer": "ipython3",
   "version": "3.10.8"
  },
  "orig_nbformat": 4,
  "vscode": {
   "interpreter": {
    "hash": "aa529be301bc9f874c4cc0323bd9bae673873c319a08a706d0e9738c760459c4"
   }
  }
 },
 "nbformat": 4,
 "nbformat_minor": 2
}
